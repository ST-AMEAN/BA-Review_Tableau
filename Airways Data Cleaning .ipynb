{
 "cells": [
  {
   "cell_type": "markdown",
   "id": "5d0b54d7",
   "metadata": {},
   "source": [
    "# DATA CLEANING"
   ]
  },
  {
   "cell_type": "code",
   "execution_count": 6,
   "id": "d0095343",
   "metadata": {},
   "outputs": [],
   "source": [
    "import pandas as pd\n",
    "\n",
    "# Load the data\n",
    "df = pd.read_csv('/Users/st.amean/Desktop/Portfolio Project/BA_DATA/airline_review.csv')\n"
   ]
  },
  {
   "cell_type": "code",
   "execution_count": 2,
   "id": "2b9ce32a",
   "metadata": {
    "scrolled": true
   },
   "outputs": [
    {
     "name": "stdout",
     "output_type": "stream",
     "text": [
      "   Unnamed: 0  rating                            header               author  \\\n",
      "0           0       2      service was mediocre at best          Gary Storer   \n",
      "1           1       2  BA standards continue to decline             A Jensen   \n",
      "2           2       2      won the race to the bottom\"          John Rockett   \n",
      "3           3       3            Not a reliable airline  Tatiana Bobrovskaya   \n",
      "4           4       1         It is a national disgrace             A Dawson   \n",
      "\n",
      "         date           place  \\\n",
      "0  2023-10-03  United Kingdom   \n",
      "1  2023-10-02  United Kingdom   \n",
      "2  2023-10-02  United Kingdom   \n",
      "3  2023-10-02  United Kingdom   \n",
      "4  2023-09-30  United Kingdom   \n",
      "\n",
      "                                             content aircraft  traveller_type  \\\n",
      "0   Just returned from Chicago, flew out 10 days ...     A380  Couple Leisure   \n",
      "1    BA standards continue to decline every time ...     A320        Business   \n",
      "2    Awful. Business class check in queue just as...     A320  Couple Leisure   \n",
      "3    Not a reliable airline. You cannot trust the...     A320        Business   \n",
      "4    I take comfort in reading the last ten or so...      NaN  Couple Leisure   \n",
      "\n",
      "        seat_type                               route  date_flown  \\\n",
      "0   Economy Class  Chicago to Manchester via Heathrow  2023-10-01   \n",
      "1  Business Class           London Heathrow to Munich  2023-09-01   \n",
      "2  Business Class                Heathrow to Istanbul  2023-09-01   \n",
      "3   Economy Class                    London to Geneva  2023-10-01   \n",
      "4  Business Class                    Athens to London  2023-09-01   \n",
      "\n",
      "   seat_comfort  cabin_staff_service  food_beverages  ground_service  \\\n",
      "0             2                    3               1               2   \n",
      "1             2                    1               2               1   \n",
      "2             2                    3               2               1   \n",
      "3             4                    4               2               1   \n",
      "4             1                    1               1               1   \n",
      "\n",
      "   value_for_money recommended  entertainment trip_verified  \n",
      "0                2          no             -1  Not Verified  \n",
      "1                1          no             -1      Verified  \n",
      "2                1          no             -1  Not Verified  \n",
      "3                1          no             -1      Verified  \n",
      "4                1          no              1      Verified  \n",
      "Unnamed: 0              int64\n",
      "rating                  int64\n",
      "header                 object\n",
      "author                 object\n",
      "date                   object\n",
      "place                  object\n",
      "content                object\n",
      "aircraft               object\n",
      "traveller_type         object\n",
      "seat_type              object\n",
      "route                  object\n",
      "date_flown             object\n",
      "seat_comfort            int64\n",
      "cabin_staff_service     int64\n",
      "food_beverages          int64\n",
      "ground_service          int64\n",
      "value_for_money         int64\n",
      "recommended            object\n",
      "entertainment           int64\n",
      "trip_verified          object\n",
      "dtype: object\n",
      "Unnamed: 0                0\n",
      "rating                    0\n",
      "header                    0\n",
      "author                    0\n",
      "date                      0\n",
      "place                     0\n",
      "content                   0\n",
      "aircraft               1714\n",
      "traveller_type          721\n",
      "seat_type                 2\n",
      "route                   725\n",
      "date_flown              728\n",
      "seat_comfort              0\n",
      "cabin_staff_service       0\n",
      "food_beverages            0\n",
      "ground_service            0\n",
      "value_for_money           0\n",
      "recommended               0\n",
      "entertainment             0\n",
      "trip_verified          1474\n",
      "dtype: int64\n"
     ]
    }
   ],
   "source": [
    "# Inspect the data\n",
    "print(df.head())  # Display the first few rows\n",
    "print(df.dtypes)  # Check data types\n",
    "print(df.isnull().sum())  # Check for missing values"
   ]
  },
  {
   "cell_type": "code",
   "execution_count": 7,
   "id": "a8a463e7",
   "metadata": {},
   "outputs": [],
   "source": [
    "import pandas as pd\n",
    "\n",
    "# Define columns to keep and rating columns to check for zeros\n",
    "columns_to_keep = ['header', 'author', 'date', 'place', 'content', 'aircraft',\n",
    "                   'traveller_type', 'seat_type', 'route', 'date_flown',\n",
    "                   'recommended', 'trip_verified', 'rating', 'seat_comfort',\n",
    "                   'cabin_staff_service', 'food_beverages', 'ground_service',\n",
    "                   'value_for_money', 'entertainment']\n",
    "\n",
    "df = df[columns_to_keep]\n"
   ]
  },
  {
   "cell_type": "markdown",
   "id": "de695d4b",
   "metadata": {},
   "source": [
    "### Data clean by remove rows with any empty cells"
   ]
  },
  {
   "cell_type": "code",
   "execution_count": 4,
   "id": "15a6757e",
   "metadata": {},
   "outputs": [
    {
     "name": "stdout",
     "output_type": "stream",
     "text": [
      "<class 'pandas.core.frame.DataFrame'>\n",
      "Index: 1323 entries, 0 to 2315\n",
      "Data columns (total 19 columns):\n",
      " #   Column               Non-Null Count  Dtype \n",
      "---  ------               --------------  ----- \n",
      " 0   header               1323 non-null   object\n",
      " 1   author               1323 non-null   object\n",
      " 2   date                 1323 non-null   object\n",
      " 3   place                1323 non-null   object\n",
      " 4   content              1323 non-null   object\n",
      " 5   aircraft             1323 non-null   object\n",
      " 6   traveller_type       1323 non-null   object\n",
      " 7   seat_type            1323 non-null   object\n",
      " 8   route                1323 non-null   object\n",
      " 9   date_flown           1323 non-null   object\n",
      " 10  recommended          1323 non-null   object\n",
      " 11  trip_verified        1323 non-null   object\n",
      " 12  rating               1323 non-null   int64 \n",
      " 13  seat_comfort         1323 non-null   int64 \n",
      " 14  cabin_staff_service  1323 non-null   int64 \n",
      " 15  food_beverages       1323 non-null   int64 \n",
      " 16  ground_service       1323 non-null   int64 \n",
      " 17  value_for_money      1323 non-null   int64 \n",
      " 18  entertainment        1323 non-null   int64 \n",
      "dtypes: int64(7), object(12)\n",
      "memory usage: 206.7+ KB\n",
      "None\n"
     ]
    }
   ],
   "source": [
    "# Remove rows with any empty cells\n",
    "df.dropna(inplace=True)\n",
    "\n",
    "# Print summary to verify changes\n",
    "print(df.info())"
   ]
  },
  {
   "cell_type": "markdown",
   "id": "80e5e0c6",
   "metadata": {},
   "source": [
    "### Handling missing values\n",
    "#### By Assuming 'aircraft', 'route', 'date_flown' and 'trip_verified' should have no nulls:"
   ]
  },
  {
   "cell_type": "code",
   "execution_count": 8,
   "id": "0175f20a",
   "metadata": {},
   "outputs": [
    {
     "name": "stdout",
     "output_type": "stream",
     "text": [
      "<class 'pandas.core.frame.DataFrame'>\n",
      "Index: 2894 entries, 0 to 2897\n",
      "Data columns (total 19 columns):\n",
      " #   Column               Non-Null Count  Dtype         \n",
      "---  ------               --------------  -----         \n",
      " 0   header               2894 non-null   object        \n",
      " 1   author               2894 non-null   object        \n",
      " 2   date                 2894 non-null   datetime64[ns]\n",
      " 3   place                2894 non-null   object        \n",
      " 4   content              2894 non-null   object        \n",
      " 5   aircraft             2894 non-null   object        \n",
      " 6   traveller_type       2894 non-null   object        \n",
      " 7   seat_type            2894 non-null   object        \n",
      " 8   route                2894 non-null   object        \n",
      " 9   date_flown           2894 non-null   datetime64[ns]\n",
      " 10  recommended          2894 non-null   bool          \n",
      " 11  trip_verified        2894 non-null   bool          \n",
      " 12  rating               2894 non-null   int64         \n",
      " 13  seat_comfort         2894 non-null   int64         \n",
      " 14  cabin_staff_service  2894 non-null   int64         \n",
      " 15  food_beverages       2894 non-null   int64         \n",
      " 16  ground_service       2894 non-null   int64         \n",
      " 17  value_for_money      2894 non-null   int64         \n",
      " 18  entertainment        2894 non-null   int64         \n",
      "dtypes: bool(2), datetime64[ns](2), int64(7), object(8)\n",
      "memory usage: 412.6+ KB\n",
      "None\n"
     ]
    }
   ],
   "source": [
    "# Fill specific columns with default values\n",
    "df['aircraft'].fillna('Unknown', inplace=True)\n",
    "df['route'].fillna('No specific route', inplace=True)\n",
    "df['date_flown'].fillna(df['date_flown'].mode()[0], inplace=True)\n",
    "df['trip_verified'].fillna('Not Verified', inplace=True)\n",
    "\n",
    "# Convert date columns to datetime\n",
    "df['date'] = pd.to_datetime(df['date'])\n",
    "df['date_flown'] = pd.to_datetime(df['date_flown'])\n",
    "\n",
    "# Convert 'trip_verified' to boolean\n",
    "df['trip_verified'] = df['trip_verified'].map({'Verified': True, 'Not Verified': False})\n",
    "\n",
    "# Standardize 'recommended' column to boolean\n",
    "df['recommended'] = df['recommended'].map({'yes': True, 'no': False})\n",
    "\n",
    "# Remove rows with any empty cells\n",
    "df.dropna(inplace=True)\n",
    "\n",
    "# Print summary to verify changes\n",
    "print(df.info())\n"
   ]
  },
  {
   "cell_type": "markdown",
   "id": "4ed1a3e9",
   "metadata": {},
   "source": [
    "### Save the cleaned data"
   ]
  },
  {
   "cell_type": "code",
   "execution_count": 5,
   "id": "06607e39",
   "metadata": {},
   "outputs": [],
   "source": [
    "# Save the cleaned data the version you prefered\n",
    "df.to_csv(\"ba_review.csv\", index=False)"
   ]
  }
 ],
 "metadata": {
  "kernelspec": {
   "display_name": "Python 3 (ipykernel)",
   "language": "python",
   "name": "python3"
  },
  "language_info": {
   "codemirror_mode": {
    "name": "ipython",
    "version": 3
   },
   "file_extension": ".py",
   "mimetype": "text/x-python",
   "name": "python",
   "nbconvert_exporter": "python",
   "pygments_lexer": "ipython3",
   "version": "3.11.7"
  }
 },
 "nbformat": 4,
 "nbformat_minor": 5
}
